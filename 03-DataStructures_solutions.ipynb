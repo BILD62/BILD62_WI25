{
 "cells": [
  {
   "cell_type": "markdown",
   "metadata": {
    "slideshow": {
     "slide_type": "slide"
    }
   },
   "source": [
    "# Data Structures\n",
    "\n",
    "In this notebook, we'll explore different types of data structures that Python can use to store information, namely **lists, tuples, and dictionaries.**"
   ]
  },
  {
   "cell_type": "markdown",
   "metadata": {
    "slideshow": {
     "slide_type": "slide"
    }
   },
   "source": [
    "\n",
    "## At the end of this notebook, you'll be able to:\n",
    "* Compare & contrast the types of structures that Python uses to store data points\n",
    "* Recognize & create lists, tuples, and dictionaries in Python\n",
    "* Index, slice, cast, and mutate lists\n",
    "* Understand the implications of mutability and object-oriented programming\n",
    "\n",
    "<hr>"
   ]
  },
  {
   "cell_type": "markdown",
   "metadata": {
    "slideshow": {
     "slide_type": "slide"
    }
   },
   "source": [
    "## Lists\n",
    "A _list_ is a mutable collection of ordered items, that can be of mixed type.\n",
    "\n",
    "**Mutable** means that individual items in the object can be changed. Lists are mutable. Tuples and strings are not -- they're **immutable**.\n",
    "\n",
    "Lists are created using square brackets `[ ]`, and individual elements are separated by commas."
   ]
  },
  {
   "cell_type": "code",
   "execution_count": 1,
   "metadata": {
    "scrolled": true,
    "slideshow": {
     "slide_type": "fragment"
    }
   },
   "outputs": [
    {
     "data": {
      "text/plain": [
       "['strawberry', 'raspberry', 'apple', 'mango']"
      ]
     },
     "execution_count": 1,
     "metadata": {},
     "output_type": "execute_result"
    }
   ],
   "source": [
    "# Create a list of fruits\n",
    "fruits = ['strawberry','raspberry','apple','mango']\n",
    "fruits"
   ]
  },
  {
   "cell_type": "markdown",
   "metadata": {
    "slideshow": {
     "slide_type": "slide"
    }
   },
   "source": [
    "### Useful list methods\n",
    "- Check the length of your list by using `len(my_list)`\n",
    "- Use `my_list.append()` to add elements to a list\n",
    "- Remove elements by index using `del my_list[index]`\n",
    "- Remove elements by value by using `my_list.remove('value')`\n",
    "- Sort by using `my_list.sort()`"
   ]
  },
  {
   "cell_type": "code",
   "execution_count": 2,
   "metadata": {
    "scrolled": true,
    "slideshow": {
     "slide_type": "fragment"
    }
   },
   "outputs": [
    {
     "name": "stdout",
     "output_type": "stream",
     "text": [
      "['strawberry', 'raspberry', 'apple', 'mango']\n",
      "4\n"
     ]
    },
    {
     "data": {
      "text/plain": [
       "['strawberry', 'raspberry', 'apple', 'mango']"
      ]
     },
     "execution_count": 2,
     "metadata": {},
     "output_type": "execute_result"
    }
   ],
   "source": [
    "# Try different list methods here\n",
    "print(fruits)\n",
    "#fruits.remove('kiwi')\n",
    "print(len(fruits))\n",
    "fruits"
   ]
  },
  {
   "cell_type": "code",
   "execution_count": 3,
   "metadata": {},
   "outputs": [
    {
     "name": "stdout",
     "output_type": "stream",
     "text": [
      "['strawberry', 'apple', 'mango']\n"
     ]
    }
   ],
   "source": [
    "del fruits[1]\n",
    "print(fruits)"
   ]
  },
  {
   "cell_type": "code",
   "execution_count": 4,
   "metadata": {},
   "outputs": [
    {
     "data": {
      "text/plain": [
       "['apple', 'mango', 'strawberry']"
      ]
     },
     "execution_count": 4,
     "metadata": {},
     "output_type": "execute_result"
    }
   ],
   "source": [
    "fruits.sort()\n",
    "fruits"
   ]
  },
  {
   "cell_type": "code",
   "execution_count": 5,
   "metadata": {},
   "outputs": [
    {
     "data": {
      "text/plain": [
       "['strawberry', 'mango', 'apple']"
      ]
     },
     "execution_count": 5,
     "metadata": {},
     "output_type": "execute_result"
    }
   ],
   "source": [
    "fruits.sort(reverse=True)\n",
    "fruits"
   ]
  },
  {
   "cell_type": "code",
   "execution_count": 6,
   "metadata": {},
   "outputs": [
    {
     "data": {
      "text/plain": [
       "['apple', 'mango', 'strawberry']"
      ]
     },
     "execution_count": 6,
     "metadata": {},
     "output_type": "execute_result"
    }
   ],
   "source": [
    "fruits.reverse()\n",
    "fruits"
   ]
  },
  {
   "cell_type": "markdown",
   "metadata": {
    "slideshow": {
     "slide_type": "slide"
    }
   },
   "source": [
    "### List indexing & slicing\n",
    "**Indexing** refers to selecting an item from within a collection (e.g., lists, tuples, and strings). Indexing is done by placing the **index number** in square brackets, directly after the list variable.\n",
    "\n",
    "For example, if `my_list = [1,3,5]`, we can get the second value using `my_list[1]`. (Remember that Python starts indexing at zero!)"
   ]
  },
  {
   "cell_type": "markdown",
   "metadata": {
    "slideshow": {
     "slide_type": "slide"
    }
   },
   "source": [
    "### Reminders\n",
    "- Python is zero-based (The first index is '0')\n",
    "- Negative indices index backwards through a collection"
   ]
  },
  {
   "cell_type": "code",
   "execution_count": 7,
   "metadata": {
    "scrolled": true,
    "slideshow": {
     "slide_type": "slide"
    }
   },
   "outputs": [
    {
     "data": {
      "text/plain": [
       "['strawberry']"
      ]
     },
     "execution_count": 7,
     "metadata": {},
     "output_type": "execute_result"
    }
   ],
   "source": [
    "# Try indexing our list of fruits here\n",
    "fruits = ['strawberry','raspberry','apple','mango','kiwi']\n",
    "\n",
    "fruits[0:1] #slice the first two fruits"
   ]
  },
  {
   "cell_type": "markdown",
   "metadata": {
    "slideshow": {
     "slide_type": "slide"
    }
   },
   "source": [
    "### If we want multiple items, we can **slice** the list.\n",
    "\n",
    "There are a few ways to slice:\n",
    "\n",
    "1. We can **slice** a part of a list using the syntax `[start:stop]`, which extracts characters between index start and stop (-1).\n",
    "\n",
    "**Notes**\n",
    "- `start` is __included__ then every element __until__ `stop` is included.\n",
    "- Negative values count backwards through the list."
   ]
  },
  {
   "cell_type": "markdown",
   "metadata": {
    "slideshow": {
     "slide_type": "slide"
    }
   },
   "source": [
    "2. If we omit either (or both) of start or stop from `[start:stop]`, the default is the beginning and the end of the string, respectively, e.g. `[:3]`\n",
    "3. We can also define the step size (instead of default 1) using the syntax `[start:stop:step]`"
   ]
  },
  {
   "cell_type": "markdown",
   "metadata": {
    "slideshow": {
     "slide_type": "slide"
    }
   },
   "source": [
    "<div class=\"alert alert-success\"><b>Task:</b> For our list of fruits, create three different slices, and save them as different variables:\n",
    "    \n",
    "1. A slice of the first two fruits.\n",
    "2. A slice of the middle three fruits.\n",
    "3. A slice of the last fruit.\n",
    "    \n",
    "</div>"
   ]
  },
  {
   "cell_type": "code",
   "execution_count": 8,
   "metadata": {
    "scrolled": true,
    "slideshow": {
     "slide_type": "fragment"
    }
   },
   "outputs": [
    {
     "name": "stdout",
     "output_type": "stream",
     "text": [
      "['strawberry', 'raspberry']\n",
      "['raspberry', 'apple', 'mango']\n",
      "kiwi\n"
     ]
    }
   ],
   "source": [
    "# Your code here!\n",
    "fruits = ['strawberry','raspberry','apple','mango','kiwi']\n",
    "\n",
    "print(fruits[0:2]) # first two\n",
    "\n",
    "print(fruits[1:4]) # middle three\n",
    "\n",
    "print(fruits[-1]) # last fruit"
   ]
  },
  {
   "cell_type": "markdown",
   "metadata": {
    "slideshow": {
     "slide_type": "slide"
    }
   },
   "source": [
    "### Checking length\n",
    "We can use the function `len( )` to check the length of lists.\n",
    "\n",
    "**Note**: We can also use this to get the number of characters in a string!"
   ]
  },
  {
   "cell_type": "code",
   "execution_count": 9,
   "metadata": {},
   "outputs": [
    {
     "data": {
      "text/plain": [
       "10"
      ]
     },
     "execution_count": 9,
     "metadata": {},
     "output_type": "execute_result"
    }
   ],
   "source": [
    "len(fruits[0])"
   ]
  },
  {
   "cell_type": "markdown",
   "metadata": {
    "slideshow": {
     "slide_type": "slide"
    }
   },
   "source": [
    "### Checking membership\n",
    "We can use `in` to see if an item exists in a list. The `in` operator checks whether an element is present in a collection, and can be negated with `not`. _(More on operators in the next lecture)_"
   ]
  },
  {
   "cell_type": "code",
   "execution_count": 10,
   "metadata": {
    "scrolled": true,
    "slideshow": {
     "slide_type": "fragment"
    }
   },
   "outputs": [
    {
     "data": {
      "text/plain": [
       "True"
      ]
     },
     "execution_count": 10,
     "metadata": {},
     "output_type": "execute_result"
    }
   ],
   "source": [
    "'blueberry' not in fruits"
   ]
  },
  {
   "cell_type": "markdown",
   "metadata": {
    "slideshow": {
     "slide_type": "slide"
    }
   },
   "source": [
    "### Mutating lists\n",
    "After definition, we can update members of our list _because lists are mutable!_ This also impacts aliases of our lists."
   ]
  },
  {
   "cell_type": "code",
   "execution_count": 11,
   "metadata": {
    "slideshow": {
     "slide_type": "fragment"
    }
   },
   "outputs": [
    {
     "name": "stdout",
     "output_type": "stream",
     "text": [
      "['strawberry', 'raspberry', 'apple', 'mango', 'kiwi', 'blueberry']\n",
      "['strawberry', 'raspberry', 'apple', 'mango', 'kiwi', 'blueberry']\n"
     ]
    }
   ],
   "source": [
    "# Create alias of our list\n",
    "fruits2 = fruits\n",
    "\n",
    "# Update the original list\n",
    "fruits.append('blueberry') # add blueberry\n",
    "\n",
    "# Check both lists\n",
    "print(fruits) # print original\n",
    "print(fruits2) # print alias"
   ]
  },
  {
   "cell_type": "code",
   "execution_count": 12,
   "metadata": {},
   "outputs": [
    {
     "data": {
      "text/plain": [
       "\u001b[0;31mSignature:\u001b[0m \u001b[0mfruits\u001b[0m\u001b[0;34m.\u001b[0m\u001b[0mappend\u001b[0m\u001b[0;34m(\u001b[0m\u001b[0mobject\u001b[0m\u001b[0;34m,\u001b[0m \u001b[0;34m/\u001b[0m\u001b[0;34m)\u001b[0m\u001b[0;34m\u001b[0m\u001b[0;34m\u001b[0m\u001b[0m\n",
       "\u001b[0;31mDocstring:\u001b[0m Append object to the end of the list.\n",
       "\u001b[0;31mType:\u001b[0m      builtin_function_or_method"
      ]
     },
     "metadata": {},
     "output_type": "display_data"
    }
   ],
   "source": [
    "fruits.append?"
   ]
  },
  {
   "cell_type": "code",
   "execution_count": 13,
   "metadata": {},
   "outputs": [
    {
     "data": {
      "text/plain": [
       "140564179853632"
      ]
     },
     "execution_count": 13,
     "metadata": {},
     "output_type": "execute_result"
    }
   ],
   "source": [
    "id(fruits)"
   ]
  },
  {
   "cell_type": "code",
   "execution_count": 14,
   "metadata": {},
   "outputs": [
    {
     "data": {
      "text/plain": [
       "140564179853632"
      ]
     },
     "execution_count": 14,
     "metadata": {},
     "output_type": "execute_result"
    }
   ],
   "source": [
    "id(fruits2)"
   ]
  },
  {
   "cell_type": "markdown",
   "metadata": {
    "slideshow": {
     "slide_type": "slide"
    }
   },
   "source": [
    "### Creating lists of lists\n",
    "Sometimes, it's useful to create lists of lists. Often, if we import big datasets as lists, this is how it will be organized.\n",
    "\n",
    "![](https://swcarpentry.github.io/python-novice-inflammation/fig/indexing_lists_python.png)\n",
    "<div align=\"center\"><a href=\"https://swcarpentry.github.io/python-novice-inflammation/04-lists/index.html\">Image source</a></div>"
   ]
  },
  {
   "cell_type": "code",
   "execution_count": 15,
   "metadata": {
    "scrolled": true,
    "slideshow": {
     "slide_type": "slide"
    }
   },
   "outputs": [
    {
     "name": "stdout",
     "output_type": "stream",
     "text": [
      "['gene1', 0.48, 0.55]\n"
     ]
    }
   ],
   "source": [
    "gene_1 = ['gene1',0.48,0.55]\n",
    "gene_2 = ['gene2',0.38,0.85]\n",
    "gene_3 = ['gene3',0.21,0.81]\n",
    "all_genes = [gene_1, gene_2, gene_3]\n",
    "\n",
    "# We can use this syntax to get a specific value\n",
    "print(all_genes[0])"
   ]
  },
  {
   "cell_type": "markdown",
   "metadata": {
    "slideshow": {
     "slide_type": "slide"
    }
   },
   "source": [
    "## Tuples\n",
    "A _tuple_ is an **immutable** collection of ordered items, that can be of mixed type.\n",
    "\n",
    "* Tuples are created using parentheses.\n",
    "* Indexing works similar to lists."
   ]
  },
  {
   "cell_type": "code",
   "execution_count": 16,
   "metadata": {
    "scrolled": true,
    "slideshow": {
     "slide_type": "fragment"
    }
   },
   "outputs": [
    {
     "data": {
      "text/plain": [
       "('gene1', 0.5)"
      ]
     },
     "execution_count": 16,
     "metadata": {},
     "output_type": "execute_result"
    }
   ],
   "source": [
    "# Define a tuple\n",
    "my_tuple = ('gene1',0.5)\n",
    "my_tuple"
   ]
  },
  {
   "cell_type": "markdown",
   "metadata": {
    "slideshow": {
     "slide_type": "slide"
    }
   },
   "source": [
    "<div class=\"alert alert-success\"><b>Question</b>: Before running the cell below, try to predict: What will be printed out from running this code?</div>"
   ]
  },
  {
   "cell_type": "code",
   "execution_count": 17,
   "metadata": {
    "scrolled": true,
    "slideshow": {
     "slide_type": "fragment"
    }
   },
   "outputs": [
    {
     "name": "stdout",
     "output_type": "stream",
     "text": [
      "Overlap\n"
     ]
    }
   ],
   "source": [
    "lst = ['a', 'b', 'c']\n",
    "tup = ('b', 'c', 'd')\n",
    "\n",
    "if lst[-1] == tup[-1]:\n",
    "    print('EndMatch') #1 \n",
    "elif tup[1] in lst:\n",
    "    print('Overlap') #2\n",
    "elif len(lst) == tup:\n",
    "    print('Length') #3 \n",
    "else:\n",
    "    print('None') #4"
   ]
  },
  {
   "cell_type": "markdown",
   "metadata": {
    "slideshow": {
     "slide_type": "slide"
    }
   },
   "source": [
    "### Casting between variable types\n",
    "We can use `list( )` or `tuple( )` to convert variables into different types. This is called **casting**.\n",
    "\n",
    "This is particularly useful when we use an operator like `range( )` which generates a range, but in the form of an **iterator**."
   ]
  },
  {
   "cell_type": "markdown",
   "metadata": {
    "slideshow": {
     "slide_type": "slide"
    }
   },
   "source": [
    "**Note**: `range`, like indexing, is defined with `start`,`stop`, and `step`, but commas in between each. Remember that you can always use `?range` or `help(range)` to get details on how a function works. "
   ]
  },
  {
   "cell_type": "code",
   "execution_count": 18,
   "metadata": {
    "scrolled": true,
    "slideshow": {
     "slide_type": "fragment"
    }
   },
   "outputs": [
    {
     "data": {
      "text/plain": [
       "(0, 10, 20, 30, 40, 50, 60, 70, 80, 90)"
      ]
     },
     "execution_count": 18,
     "metadata": {},
     "output_type": "execute_result"
    }
   ],
   "source": [
    "# Test range here\n",
    "tuple(range(0,100,10))"
   ]
  },
  {
   "cell_type": "markdown",
   "metadata": {
    "slideshow": {
     "slide_type": "slide"
    }
   },
   "source": [
    "# Dictionaries\n",
    "Dictionaries are also like lists, except that each element is a key-value pair. The syntax for dictionaries is `{key1 : value1, ...}:`\n",
    "\n",
    "### When dictionaries are useful\n",
    "1. Flexible & efficient way to associate labels with heterogeneous data\n",
    "2. Use where data items have, or can be given, labels\n",
    "3. Appropriate for collecting data of different kinds (e.g., name, addresses, ages)\n",
    "\n",
    "> In the cell below, create a dictionary for three countries and capitals using the syntax `{country:capital,...}`. Remember that strings still need parentheses!\n",
    "\n",
    "**Note**: You can also create an empty dicitionary using `{}` and fill it using `dictionary['key'] = 'value'`."
   ]
  },
  {
   "cell_type": "code",
   "execution_count": 19,
   "metadata": {
    "scrolled": true,
    "slideshow": {
     "slide_type": "fragment"
    }
   },
   "outputs": [
    {
     "data": {
      "text/plain": [
       "'Tokyo'"
      ]
     },
     "execution_count": 19,
     "metadata": {},
     "output_type": "execute_result"
    }
   ],
   "source": [
    "capitals = {'Spain':'Madrid','USA':'DC','Japan':'Tokyo'}\n",
    "capitals['Japan']"
   ]
  },
  {
   "cell_type": "markdown",
   "metadata": {
    "slideshow": {
     "slide_type": "slide"
    }
   },
   "source": [
    "<div class=\"alert alert-success\"><b>Question:</b> Before running the cell below, predict: What would the following code produce?</div>"
   ]
  },
  {
   "cell_type": "code",
   "execution_count": 20,
   "metadata": {
    "scrolled": true,
    "slideshow": {
     "slide_type": "fragment"
    }
   },
   "outputs": [
    {
     "data": {
      "text/plain": [
       "{'Spain': 'Madrid', 'USA': 'DC', 'Japan': 'Tokyo', 'United Kingdom': 'England'}"
      ]
     },
     "execution_count": 20,
     "metadata": {},
     "output_type": "execute_result"
    }
   ],
   "source": [
    "capitals.update({'United Kingdom':'England'})\n",
    "capitals"
   ]
  },
  {
   "cell_type": "markdown",
   "metadata": {
    "slideshow": {
     "slide_type": "fragment"
    }
   },
   "source": [
    "<div class=\"alert alert-success\"><b>Task</b>: What happens if we look for a key that doesn't exist? Try this above."
   ]
  },
  {
   "cell_type": "code",
   "execution_count": 21,
   "metadata": {},
   "outputs": [
    {
     "ename": "KeyError",
     "evalue": "'Kenya'",
     "output_type": "error",
     "traceback": [
      "\u001b[0;31m---------------------------------------------------------------------------\u001b[0m",
      "\u001b[0;31mKeyError\u001b[0m                                  Traceback (most recent call last)",
      "Cell \u001b[0;32mIn[21], line 1\u001b[0m\n\u001b[0;32m----> 1\u001b[0m \u001b[43mcapitals\u001b[49m\u001b[43m[\u001b[49m\u001b[38;5;124;43m'\u001b[39;49m\u001b[38;5;124;43mKenya\u001b[39;49m\u001b[38;5;124;43m'\u001b[39;49m\u001b[43m]\u001b[49m\n",
      "\u001b[0;31mKeyError\u001b[0m: 'Kenya'"
     ]
    }
   ],
   "source": [
    "capitals['Kenya']"
   ]
  },
  {
   "cell_type": "code",
   "execution_count": 22,
   "metadata": {},
   "outputs": [
    {
     "data": {
      "text/plain": [
       "[0.3, 0.2, 0.5]"
      ]
     },
     "execution_count": 22,
     "metadata": {},
     "output_type": "execute_result"
    }
   ],
   "source": [
    "gene_dict = {'gene1':[0.3,0.2,0.5]}\n",
    "gene_dict['gene1']"
   ]
  },
  {
   "cell_type": "markdown",
   "metadata": {
    "slideshow": {
     "slide_type": "slide"
    }
   },
   "source": [
    "### Additional dictionary functionality\n",
    "- Use `capitals.update(morecapitals)` to add another dictionary entry\n",
    "- Use `del capitals['US']` to delete entries\n",
    "- Loop by key or values, or both"
   ]
  },
  {
   "cell_type": "markdown",
   "metadata": {
    "slideshow": {
     "slide_type": "slide"
    }
   },
   "source": [
    "<hr>\n",
    "\n",
    "## Additional resources\n",
    "<a href=\"https://swcarpentry.github.io/python-novice-gapminder/11-lists/index.html\">Software Carpentries Lists</a>\n",
    "\n",
    "<a href=\"https://python101.pythonlibrary.org/chapter3_lists_dicts.html\">Python 101: Lists, Tuples, and Dictionaries</a>\n",
    "\n",
    "<a href=\"https://github.com/jakevdp/WhirlwindTourOfPython/blob/6f1daf714fe52a8dde6a288674ba46a7feed8816/06-Built-in-Data-Structures.ipynb\">Whirlwind Tour of Python: Built-In Data Structures</a>\n"
   ]
  },
  {
   "cell_type": "markdown",
   "metadata": {
    "slideshow": {
     "slide_type": "slide"
    }
   },
   "source": [
    "## About this notebook\n",
    "This notebook is largely derived from UCSD COGS18 Materials, created by Tom Donoghue & Shannon Ellis, as well as the <a href=\"https://github.com/jrjohansson/scientific-python-lectures/blob/master/Lecture-1-Introduction-to-Python-Programming.ipynb\">Scientific Python Lecture</a> by J.R. Johansson."
   ]
  }
 ],
 "metadata": {
  "kernelspec": {
   "display_name": "Python 3 (ipykernel)",
   "language": "python",
   "name": "python3"
  },
  "language_info": {
   "codemirror_mode": {
    "name": "ipython",
    "version": 3
   },
   "file_extension": ".py",
   "mimetype": "text/x-python",
   "name": "python",
   "nbconvert_exporter": "python",
   "pygments_lexer": "ipython3",
   "version": "3.11.9"
  },
  "rise": {
   "theme": "serif"
  }
 },
 "nbformat": 4,
 "nbformat_minor": 4
}
