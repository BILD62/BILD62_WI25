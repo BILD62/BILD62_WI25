{
 "cells": [
  {
   "cell_type": "markdown",
   "id": "165dcb1f-8d89-49e2-b8fd-5e983e3c7f9d",
   "metadata": {},
   "source": [
    "# Error Handling\n",
    "\n",
    "Here's an error handling example using try/except:"
   ]
  },
  {
   "cell_type": "code",
   "execution_count": 1,
   "id": "a17d0a4e-fbd4-4e5e-8e63-47a7f619087c",
   "metadata": {
    "scrolled": true
   },
   "outputs": [
    {
     "name": "stdout",
     "output_type": "stream",
     "text": [
      "5.0\n",
      "Error: Cannot divide by zero.\n",
      "None\n",
      "Error: Incorrect data types. Both inputs must be numbers.\n",
      "None\n",
      "Error: Incorrect data types. Both inputs must be numbers.\n",
      "None\n",
      "Index out of range\n"
     ]
    }
   ],
   "source": [
    "def divide_numbers(numerator, denominator):\n",
    "  \"\"\"Divides two numbers and handles potential ZeroDivisionError.\"\"\"\n",
    "  try:\n",
    "    result = numerator / denominator\n",
    "    return result\n",
    "  except ZeroDivisionError:\n",
    "    print(\"Error: Cannot divide by zero.\")\n",
    "    return None\n",
    "  except TypeError:\n",
    "    print(\"Error: Incorrect data types. Both inputs must be numbers.\")\n",
    "    return None\n",
    "  except Exception as e: #catches any other exception.\n",
    "    print(f\"An unexpected error occurred: {e}\")\n",
    "    return None\n",
    "\n",
    "# Example usage:\n",
    "print(divide_numbers(10, 2))  # Output: 5.0\n",
    "print(divide_numbers(10, 0))  # Output: Error: Cannot divide by zero. None\n",
    "print(divide_numbers(10, \"a\")) #Output: Error: Incorrect data types. Both inputs must be numbers. None\n",
    "print(divide_numbers(\"a\",2)) #Output: Error: Incorrect data types. Both inputs must be numbers. None\n",
    "\n",
    "try:\n",
    "  my_list = [1,2,3]\n",
    "  print(my_list[5])\n",
    "except IndexError:\n",
    "  print(\"Index out of range\")"
   ]
  },
  {
   "cell_type": "markdown",
   "id": "e9ce1506-c327-4e00-a443-d7ce488b715a",
   "metadata": {},
   "source": [
    "Below is an example of using `raise` and checks with `if` statements. It also demonstrates a unit test."
   ]
  },
  {
   "cell_type": "code",
   "execution_count": 8,
   "id": "f29842fc-efa9-4d75-83dc-056f7ee2119a",
   "metadata": {
    "scrolled": true
   },
   "outputs": [
    {
     "ename": "AssertionError",
     "evalue": "Test 1 Failed: Expected 5.0, got 1.0",
     "output_type": "error",
     "traceback": [
      "\u001b[0;31m---------------------------------------------------------------------------\u001b[0m",
      "\u001b[0;31mAssertionError\u001b[0m                            Traceback (most recent call last)",
      "Cell \u001b[0;32mIn[8], line 17\u001b[0m\n\u001b[1;32m     14\u001b[0m expected1 \u001b[38;5;241m=\u001b[39m \u001b[38;5;241m5.0\u001b[39m  \u001b[38;5;66;03m# Mean (3.0) + offset (2.0)\u001b[39;00m\n\u001b[1;32m     15\u001b[0m result1 \u001b[38;5;241m=\u001b[39m calculate_mean(arr1,\u001b[38;5;241m2.0\u001b[39m)\n\u001b[0;32m---> 17\u001b[0m \u001b[38;5;28;01massert\u001b[39;00m expected1 \u001b[38;5;241m==\u001b[39m result1 , \u001b[38;5;124mf\u001b[39m\u001b[38;5;124m\"\u001b[39m\u001b[38;5;124mTest 1 Failed: Expected \u001b[39m\u001b[38;5;132;01m{\u001b[39;00mexpected1\u001b[38;5;132;01m}\u001b[39;00m\u001b[38;5;124m, got \u001b[39m\u001b[38;5;132;01m{\u001b[39;00mresult1\u001b[38;5;132;01m}\u001b[39;00m\u001b[38;5;124m\"\u001b[39m\n",
      "\u001b[0;31mAssertionError\u001b[0m: Test 1 Failed: Expected 5.0, got 1.0"
     ]
    }
   ],
   "source": [
    "import numpy as np\n",
    "\n",
    "def offset_mean(arr,offset):\n",
    "    \"\"\"Calculates the mean of a NumPy array.\"\"\"\n",
    "    if not isinstance(arr, np.ndarray):\n",
    "        raise TypeError(\"Input must be a NumPy array.\")\n",
    "    if arr.size == 0:\n",
    "        return np.nan\n",
    "    return np.mean(arr) - offset\n",
    "\n",
    "# Test case 1: Valid array\n",
    "arr1 = np.array([1, 2, 3, 4, 5])\n",
    "expected1 = 3.0\n",
    "expected1 = 5.0  # Mean (3.0) + offset (2.0)\n",
    "result1 = calculate_mean(arr1,2.0)\n",
    "\n",
    "assert expected1 == result1 , f\"Test 1 Failed: Expected {expected1}, got {result1}\""
   ]
  },
  {
   "cell_type": "markdown",
   "id": "ae4e4ccf-ea46-4ff9-9783-2aa508a12622",
   "metadata": {},
   "source": [
    "# Notebook tasks\n",
    "\n",
    "<div class=\"alert alert-success\"><b>Task #1</b>: \n",
    "    \n",
    "1. Re-write the code for <code>computeGCcontent</code> such that it catches invalid base pair input. Hint: set() will generate a list of unique items in string\n",
    "2. Write a unit test for this function.</div>"
   ]
  },
  {
   "cell_type": "code",
   "execution_count": null,
   "id": "22fb7fec-19c0-4c33-8932-162befbc4bfd",
   "metadata": {},
   "outputs": [],
   "source": [
    "def computeGCcontent(DNA):\n",
    "\n",
    "    counter = 0\n",
    "\n",
    "    for base in DNA:\n",
    "\n",
    "        if base == 'G' or base == 'C':\n",
    "            counter = counter + 1\n",
    "\n",
    "    return counter/len(DNA)"
   ]
  },
  {
   "cell_type": "markdown",
   "id": "76788ef3-8af2-4b55-824f-fe85f065e17c",
   "metadata": {},
   "source": [
    "<div class=\"alert alert-success\">\n",
    "    <b>Task #2</b>: Modify the <code>divide_numbers</code> function such that if the division is successful, print \"Division successful.\" If there is a ZeroDivisionError, print \"Cannot divide by zero.\"</div>"
   ]
  },
  {
   "cell_type": "code",
   "execution_count": 3,
   "id": "bc10ade7-493b-46f8-9a65-b6b0ad6639e4",
   "metadata": {},
   "outputs": [],
   "source": [
    "def divide_numbers(a, b):\n",
    "    result = a / b\n",
    "    return result"
   ]
  },
  {
   "cell_type": "code",
   "execution_count": 6,
   "id": "f1d10ad0-56bc-4a51-bda9-5b64edbb4ae3",
   "metadata": {},
   "outputs": [
    {
     "name": "stdout",
     "output_type": "stream",
     "text": [
      "Cannot divide by zero.\n"
     ]
    }
   ],
   "source": [
    "divide_numbers(10, 0)"
   ]
  },
  {
   "cell_type": "markdown",
   "id": "be3941f6-3fe4-425c-9962-066845505a93",
   "metadata": {},
   "source": [
    "## Error Handling with NumPy & Pandas\n",
    "<div class=\"alert alert-success\">\n",
    "    <b>Task #3</b>: The <code>calculate_mean</code> function below will raise a TypeError if the Pandas Series contains non-numeric data. Modify the function to handle this error and return <code>np.nan</code> if a TypeError occurs.</div>"
   ]
  },
  {
   "cell_type": "code",
   "execution_count": null,
   "id": "74d883a1-49ef-4d73-9255-044b5b463af8",
   "metadata": {},
   "outputs": [],
   "source": [
    "import pandas as pd\n",
    "import numpy as np\n",
    "\n",
    "def calculate_mean(data):\n",
    "    series = pd.Series(data)\n",
    "    mean = series.mean()\n",
    "    return mean\n",
    "\n",
    "# Sample Usage\n",
    "data = [1, 2, 'a', 4, 5]\n",
    "calculate_mean(data)"
   ]
  },
  {
   "cell_type": "markdown",
   "id": "daec4fde-ea6c-4903-9bde-eca775d5387e",
   "metadata": {},
   "source": [
    "<div class=\"alert alert-success\">\n",
    "    <b>Task #4</b>: The <code>read_data_from_csv</code> function below will raise a FileNotFoundError. Modify the function to handle this error and return None and a helpful message to the user if the file is not found.</div>"
   ]
  },
  {
   "cell_type": "code",
   "execution_count": null,
   "id": "12044900-3023-436f-bf33-9bb55e8b4795",
   "metadata": {},
   "outputs": [],
   "source": [
    "import pandas as pd\n",
    "\n",
    "def read_data_from_csv(filepath):\n",
    "    df = pd.read_csv(filepath)\n",
    "    return df\n",
    "\n",
    "# Sample Usage\n",
    "filepath = 'nonexistent_file.csv'\n",
    "read_data_from_csv(filepath)"
   ]
  }
 ],
 "metadata": {
  "kernelspec": {
   "display_name": "Python 3 (ipykernel)",
   "language": "python",
   "name": "python3"
  },
  "language_info": {
   "codemirror_mode": {
    "name": "ipython",
    "version": 3
   },
   "file_extension": ".py",
   "mimetype": "text/x-python",
   "name": "python",
   "nbconvert_exporter": "python",
   "pygments_lexer": "ipython3",
   "version": "3.12.2"
  }
 },
 "nbformat": 4,
 "nbformat_minor": 5
}
