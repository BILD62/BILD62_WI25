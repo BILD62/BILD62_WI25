{
 "cells": [
  {
   "cell_type": "code",
   "execution_count": null,
   "metadata": {
    "cellView": "form",
    "id": "Jx4Y8hEdVlQb"
   },
   "outputs": [],
   "source": [
    "#@title Package for Interactive Question Widgets\n",
    "!pip install ipywidgets --upgrade\n",
    "import ipywidgets as widgets\n",
    "from IPython.display import display\n",
    "import question_module"
   ]
  },
  {
   "cell_type": "markdown",
   "metadata": {
    "id": "V92CXc5nsc9c"
   },
   "source": [
    "# Image & Signal Processing\n",
    "Here, we'll demonstrate how you could implement visualization & processing techniques for biological time series and images using Python.\n",
    "\n",
    "![](Data/leukaemia_smear.jpeg)\n",
    "\n",
    "### By the end of this notebook, you'll be able to:\n",
    "* Choose an appropriate sampling rate for time series\n",
    "* Plot time series data with accurate timestamps\n",
    "* Filter 2D and 3D data using convolution\n",
    "* Display & manipulate images in Python\n",
    "* Apply different types of filters to images\n",
    "\n",
    "<hr>\n",
    "\n",
    "First, let's get setup..."
   ]
  },
  {
   "cell_type": "code",
   "execution_count": null,
   "metadata": {
    "id": "JhO7-arYPlxP"
   },
   "outputs": [],
   "source": [
    "import numpy as np\n",
    "import scipy as sp\n",
    "import matplotlib.pyplot as plt\n",
    "\n",
    "#New Package\n",
    "import urllib.request"
   ]
  },
  {
   "cell_type": "markdown",
   "metadata": {
    "id": "zAM-ZDOjPuri"
   },
   "source": [
    "## The Nyquist Criterion and Aliasing\n",
    "When the sampling rate is too slow, this results in poor reconstruction of the sampled signal, and high-frequency components of the signal are misidentified. This type of sampling artifact is known as \"aliasing.\" To prevent aliasing, a sufficiently fast sampling rate must be chosen.\n",
    "\n",
    "**Below we'll explore how changing the sampling rate alters the reconstructed signal.**"
   ]
  },
  {
   "cell_type": "markdown",
   "metadata": {
    "id": "jf9MoeGZcEmx"
   },
   "source": [
    "<div class=\"alert alert-success\">\n",
    "\n",
    "**Task**: Change the variable `fs_new` to alter the sampling frequency. Try a few different values. What do you notice?\n",
    "\n",
    "</div>"
   ]
  },
  {
   "cell_type": "code",
   "execution_count": null,
   "metadata": {
    "id": "DnWWDtqxPsHV"
   },
   "outputs": [],
   "source": [
    "#Generate a wave\n",
    "T = 1 #period (s)\n",
    "fs = 1000 #sampling frequency (Hz)\n",
    "time = np.linspace(0, T, T * fs) #time vector (ms)\n",
    "\n",
    "\n",
    "wave_frequency = 10 #(Hz)\n",
    "sin_wave = np.sin(2 * np.pi * wave_frequency * time)\n",
    "\n",
    "plt.plot(time, sin_wave)\n",
    "\n",
    "#Choose a new sampling frequency\n",
    "fs_new = # ADD CODE HERE\n",
    "sampledSignal = np.rint(np.linspace(0, len(time)-1, fs_new)).astype(int)\n",
    "\n",
    "\n",
    "plt.plot(time[sampledSignal], sin_wave[sampledSignal],'--o')\n",
    "#plt.plot(sample_times, sample_sin, '-o')\n",
    "plt.title('True Waveform vs Sampled Wave')\n",
    "plt.xlabel('time (ms)')\n",
    "plt.ylabel('Amplitude')\n",
    "plt.legend(['True Waveform', 'Sampling Result'],loc='best', bbox_to_anchor=(0.7, 0., 0.7, 0.7))\n",
    "\n",
    "print(\"Sampling Frequency / Wave Frequency = \", fs_new / wave_frequency)\n",
    "plt.show()"
   ]
  },
  {
   "cell_type": "code",
   "execution_count": null,
   "metadata": {
    "cellView": "form",
    "colab": {
     "base_uri": "https://localhost:8080/",
     "height": 139,
     "referenced_widgets": [
      "0227a96b698d48c0bffacf0136d44962",
      "1052bfd788d24dbdae32b1e9bae25fda",
      "6748008739764bfaa49be25f6bb5233f",
      "fe62ee6e62934672943d7a7f9b9fb337",
      "887efeee40ff4f0fa7a448bc35db9d0e",
      "404d6e66d766415cbc97b1ebb2e70253",
      "15f8f47b3e66443bae8c66378493ce7a",
      "da6587e1b71d4c47bd7a8248029df6ba",
      "313388cf443b4d97b1c1595e0a6b2792",
      "6894a9cfc63a4da480c350f5d1d26ac4",
      "f36fa1dd333740aeb169ee0774d88b74"
     ]
    },
    "id": "1_a47wi6Vy_B",
    "outputId": "c1760de4-53d2-486d-f4b4-b4568bcf7eb3"
   },
   "outputs": [],
   "source": [
    "#@title Question 1\n",
    "question_module.question_1()"
   ]
  },
  {
   "cell_type": "markdown",
   "metadata": {
    "id": "dh9zxR_Ycyj-"
   },
   "source": [
    "## Time Series Signal Processing\n",
    "\n",
    "The data we'll import here is a real 30-seconds extract of slow-wave sleep from a young individual, collected by the Walker Lab at UC Berkeley. This data was collected at 100 Hz from channel 'F3'."
   ]
  },
  {
   "cell_type": "code",
   "execution_count": null,
   "metadata": {
    "cellView": "form",
    "colab": {
     "base_uri": "https://localhost:8080/",
     "height": 139,
     "referenced_widgets": [
      "11634b638cdb4108bd5e26d8de145b95",
      "7831791b6f6c40bbbb9739456199bed4",
      "8994ed4f410b48c28d4e32584a36f7f8",
      "55585b304ddc4d8f963a4581ced40272",
      "f1ca8fe797d54287a56429f6ba1d7b07",
      "d5da26e09b9d438a8baa39541eed78fa",
      "656cf3bd94e8456abdfc50f6a88fa799",
      "4f5a2afd9d1a4fe095a1f8ca09a5f5c6",
      "7c23205b8c21416fb7763511e203098e",
      "b271de2861c24034aca5d52898cb0896",
      "542dfc3dafe54318a2a917d59dec8ace"
     ]
    },
    "id": "wbag4L_nYUBm",
    "outputId": "04cfd470-2efa-42a4-d1c7-2a34a513103a"
   },
   "outputs": [],
   "source": [
    "#@title Question 2\n",
    "question_module.question_2()"
   ]
  },
  {
   "cell_type": "code",
   "execution_count": null,
   "metadata": {
    "id": "utQImQZ0Wkkh"
   },
   "outputs": [],
   "source": [
    "# URL of data to download\n",
    "data_url = 'https://raphaelvallat.com/images/tutorials/bandpower/data.txt'\n",
    "\n",
    "# Get the data and save it as \"sleep_data.txt\"\n",
    "sleep_data, headers = urllib.request.urlretrieve(data_url, './sleep_data.txt')\n",
    "sleep_data"
   ]
  },
  {
   "cell_type": "markdown",
   "metadata": {
    "id": "4l_BAX4eb0q7"
   },
   "source": [
    "<div class=\"alert alert-success\">\n",
    "\n",
    "**Task**: Using a numpy function we've already learned, load your text file and assign it to \"data\".\n",
    "\n",
    "</div>"
   ]
  },
  {
   "cell_type": "code",
   "execution_count": null,
   "metadata": {
    "id": "XgHTIfMndB-j"
   },
   "outputs": [],
   "source": [
    "# Load the .txt file\n",
    "data = # ADD CODE HERE\n",
    "print(data.shape)\n",
    "data"
   ]
  },
  {
   "cell_type": "markdown",
   "metadata": {
    "id": "heAFZUKTbm9V"
   },
   "source": [
    "<div class=\"alert alert-success\">\n",
    "\n",
    "**Task**: Create a `time_vector` variable so that your data is plotted in seconds, not samples.\n",
    "\n",
    "</div>"
   ]
  },
  {
   "cell_type": "code",
   "execution_count": null,
   "metadata": {
    "id": "l5NvKZp8eGPF"
   },
   "outputs": [],
   "source": [
    "# Define sampling frequency, num_samples, and time vector\n",
    "sampling_freq = 100 # sampling frequency, in Hz\n",
    "timestep = # ADD CODE HERE\n",
    "# ADD CODE HERE\n",
    "time_vector"
   ]
  },
  {
   "cell_type": "markdown",
   "metadata": {
    "id": "Ao-qkm_lc2XZ"
   },
   "source": [
    "<div class=\"alert alert-success\">\n",
    "\n",
    "**Task**: Plot your signal! You only need to add a line of code where it says `# ADD CODE HERE`\n",
    "\n",
    "</div>"
   ]
  },
  {
   "cell_type": "code",
   "execution_count": null,
   "metadata": {
    "id": "QnsBwVqNeK_m"
   },
   "outputs": [],
   "source": [
    "# Plot the signal\n",
    "fig, ax = plt.subplots(figsize=(12, 4))\n",
    "\n",
    "# ADD CODE HERE\n",
    "\n",
    "\n",
    "plt.xlabel('Time (seconds)')\n",
    "plt.ylabel('Voltage')\n",
    "plt.title('N3 sleep EEG data (F3)')\n",
    "plt.show()"
   ]
  },
  {
   "cell_type": "markdown",
   "metadata": {
    "id": "mdnjLciAlSgg"
   },
   "source": [
    "### Filtering a signal with convolution\n",
    "Let's start with a simple step signal (left) which we'll add some noise to (right)."
   ]
  },
  {
   "cell_type": "code",
   "execution_count": null,
   "metadata": {
    "id": "WDo-z2VQeTnV"
   },
   "outputs": [],
   "source": [
    "step_signal = np.zeros(100) # Create a 1D array of all 0s\n",
    "step_signal[50:] = 1        # Set 50: to 1\n",
    "\n",
    "fig, ax = plt.subplots(1,2,figsize=(10,4))\n",
    "ax[0].plot(step_signal)\n",
    "\n",
    "# Create random signal\n",
    "np.random.seed(0) # Set the \"seed\" for randomness\n",
    "\n",
    "noisy_signal = (step_signal + np.random.normal(0, 0.35, step_signal.shape))\n",
    "ax[1].plot(noisy_signal)\n",
    "\n",
    "plt.show()"
   ]
  },
  {
   "cell_type": "markdown",
   "metadata": {
    "id": "YRhcrwLUlW4t"
   },
   "source": [
    "If our goal is to cover something that looks more like the image on the left, we can **smooth** the signal. In the first line below, we'll take each point and average it by one datapoint to the left and one datapoint to the right, discarding the ends of the signal, where we can't do this operation."
   ]
  },
  {
   "cell_type": "code",
   "execution_count": null,
   "metadata": {
    "id": "ZRpBAwOSepPg"
   },
   "outputs": [],
   "source": [
    "# Take the mean of neighboring datapoints\n",
    "smooth_signal = (noisy_signal[:-1] + noisy_signal[1:]) / 2.0\n",
    "\n",
    "plt.plot(smooth_signal)\n",
    "plt.show()"
   ]
  },
  {
   "cell_type": "markdown",
   "metadata": {
    "id": "XLl2-Or6lcIY"
   },
   "source": [
    "Above, we're only averaging by one datapoint on each side. What if we average by 3 datapoints? Below, we'll do the following:\n",
    "1. Create an output array called `smooth_signal3`, of the same length as noisy_signal.\n",
    "2. At each element in `smooth_signal3` starting at point 1, and ending at point -2, place the average of the sum of: 1/3 of the element to the left of it in noisy_signal, 1/3 of the element at the same position, and 1/3 of the element to the right.\n",
    "3. Discard the leftmost and rightmost elements."
   ]
  },
  {
   "cell_type": "code",
   "execution_count": null,
   "metadata": {
    "id": "d1I-84-GetP-"
   },
   "outputs": [],
   "source": [
    "# Generate our signal\n",
    "smooth_signal3 = (noisy_signal[:-2] + noisy_signal[1:-1] + noisy_signal[2:]) / 3\n",
    "\n",
    "plt.plot(smooth_signal, label='mean of 2')\n",
    "plt.plot(smooth_signal3, label='mean of 3')\n",
    "plt.legend(loc='upper left')\n",
    "plt.show()"
   ]
  },
  {
   "cell_type": "markdown",
   "metadata": {
    "id": "EeRevarAltNn"
   },
   "source": [
    "If we want to continue this, the first line of our code is going to continue to get longer, and there isn't a straightforward way to make this flexible for how many points we want to average. Thankfully, there's a name for what we're doing: **convolving**. This same concept, nearest-neighbor averages, can be expressed as a **convolution with an averaging kernel**.\n",
    "\n",
    "**Convolution** is the process of adding each element of the image to its local neighbors, weighted by the kernel."
   ]
  },
  {
   "cell_type": "code",
   "execution_count": null,
   "metadata": {
    "id": "zTfnxytHe9PA"
   },
   "outputs": [],
   "source": [
    "# Same as above, using a convolution kernel\n",
    "# Neighboring pixels multiplied by 1/3 and summed\n",
    "\n",
    "# Create the \"kernel\". For 3, this creates an array that looks like [0.333,0.333,0.333]\n",
    "mean_kernel3 = np.full((3,), 1/3)\n",
    "\n",
    "# Smooth the signal by convolving it\n",
    "smooth_signal3p = np.convolve(noisy_signal, mean_kernel3, mode='valid')\n",
    "\n",
    "plt.plot(smooth_signal3p)\n",
    "plt.show()"
   ]
  },
  {
   "cell_type": "code",
   "execution_count": null,
   "metadata": {
    "colab": {
     "base_uri": "https://localhost:8080/"
    },
    "id": "ZEQtKQQ6fSVf",
    "outputId": "acb4d20e-1d3e-4acc-80e2-637f3b6c5da5"
   },
   "outputs": [],
   "source": [
    "# Check that they're equal!\n",
    "print('smooth_signal3 and smooth_signal3p are equal:',\n",
    "      np.allclose(smooth_signal3, smooth_signal3p))"
   ]
  },
  {
   "cell_type": "markdown",
   "metadata": {
    "id": "UVSAcFEud6nJ"
   },
   "source": [
    "<div class=\"alert alert-success\">\n",
    "\n",
    "**Tasks**:\n",
    "    \n",
    "1. What happens if we convolve with a kernel of size 10? Also, do these arrays have the same # of data points? If not, why?\n",
    "2. Smooth our sleep recording with different kernel sizes and inspect.\n",
    "   \n",
    "</div>"
   ]
  },
  {
   "cell_type": "code",
   "execution_count": null,
   "metadata": {
    "id": "t_p3XUlzefRh"
   },
   "outputs": [],
   "source": [
    "np.convolve?"
   ]
  },
  {
   "cell_type": "code",
   "execution_count": null,
   "metadata": {
    "id": "jzPXoRzMfjFU"
   },
   "outputs": [],
   "source": [
    "# Try a kernel of size 10 here\n",
    "\n",
    "# ADD CODE HERE\n"
   ]
  },
  {
   "cell_type": "code",
   "execution_count": null,
   "metadata": {
    "id": "_tkwqP7LgEfj"
   },
   "outputs": [],
   "source": [
    "# Smooth the sleep recording we imported above!\n",
    "# ADD CODE HERE\n"
   ]
  },
  {
   "cell_type": "markdown",
   "metadata": {
    "id": "yK7UUgOtB_DD"
   },
   "source": [
    "## Images in Python\n",
    "Below, we'll use `mpimg.imread()` to read in an image file and [`plt.imshow()`](https://matplotlib.org/devdocs/api/_as_gen/matplotlib.pyplot.imshow.html) to show [our image](https://en.wikipedia.org/wiki/Cancer_cell#/media/File:Acute_lymphoblastic_leukaemia_smear.jpg)."
   ]
  },
  {
   "cell_type": "code",
   "execution_count": null,
   "metadata": {
    "id": "kkrnzj6yggX1"
   },
   "outputs": [],
   "source": [
    "import matplotlib.image as mpimg # New module to read in images\n",
    "\n",
    "# Get the data and save it as \"leukaemia_smear.jpeg\"\n",
    "img_url ='https://github.com/BILD62/BILD62_WI24/blob/master/Data/leukaemia_smear.jpeg?raw=true'\n",
    "leukaemia_img, headers = urllib.request.urlretrieve(img_url, './leukaemia_smear.jpeg')\n",
    "leukaemia_img"
   ]
  },
  {
   "cell_type": "code",
   "execution_count": null,
   "metadata": {
    "id": "fZXNmSQK-IUC"
   },
   "outputs": [],
   "source": [
    "cells = mpimg.imread(leukaemia_img)\n",
    "plt.axis('off') # Turn axis ticks & labels off\n",
    "plt.imshow(cells)\n",
    "plt.show()"
   ]
  },
  {
   "cell_type": "markdown",
   "metadata": {
    "id": "sx1RpoSumGbN"
   },
   "source": [
    "We can work with our `cells` object just like we would any other object. Let's check its shape."
   ]
  },
  {
   "cell_type": "code",
   "execution_count": null,
   "metadata": {
    "id": "el8czrSz-SCW"
   },
   "outputs": [],
   "source": [
    "# Check cells shape\n",
    "type(cells)\n",
    "cells.shape"
   ]
  },
  {
   "cell_type": "markdown",
   "metadata": {
    "id": "uNGuU6M_mcd4"
   },
   "source": [
    "**If the first and second value are the size, what is the third value?**\n"
   ]
  },
  {
   "cell_type": "markdown",
   "metadata": {
    "id": "N6JER5CTfESz"
   },
   "source": [
    "<div class= \"alert alert-success\">\n",
    "\n",
    "**Task** Using the [documentation](https://matplotlib.org/stable/users/explain/colors/colormaps.html) for choosing colormaps, choose three colormaps for the variable `cmap_list` that corresponds to each of the color channels in `cells`.\n",
    "\n",
    "</div>"
   ]
  },
  {
   "cell_type": "code",
   "execution_count": null,
   "metadata": {
    "id": "PYrsc2_B_uQZ"
   },
   "outputs": [],
   "source": [
    "fig, ax = plt.subplots(1, 3, figsize=(12, 4))\n",
    "\n",
    "# Create subplots with colorbars\n",
    "cmap_list = # ADD CODE HERE\n",
    "for i in range(3):\n",
    "    im = ax[i].imshow(cells[:, :, i], cmap=cmap_list[i])\n",
    "    fig.colorbar(im, ax=ax[i], shrink=0.5)  # Add colorbar to each subplot\n",
    "    ax[i].set_title(f'Channel {i+1}')\n",
    "\n",
    "plt.tight_layout()\n",
    "plt.show()"
   ]
  },
  {
   "cell_type": "markdown",
   "metadata": {
    "id": "bFHTg8vggr6Y"
   },
   "source": [
    "<div class=\"alert alert-success\">\n",
    "\n",
    "**Task** Create a variable called `cells_gray` that consists of only the values in the third (Blue) channel of the image"
   ]
  },
  {
   "cell_type": "code",
   "execution_count": null,
   "metadata": {
    "id": "yzxhqOL9hbiV"
   },
   "outputs": [],
   "source": [
    "cells_gray = # ADD CODE HERE\n",
    "print(cells_gray)\n",
    "plt.imshow(cells_gray)\n",
    "plt.colorbar(shrink=0.75)\n",
    "plt.show()"
   ]
  },
  {
   "cell_type": "markdown",
   "metadata": {
    "id": "9hIGdIKlm-cp"
   },
   "source": [
    "By default, matplotlib uses the viridis color map to plot a sequence of values (you can see the luminance at each pixel by showing the colorbar with `plt.colorbar()`).\n",
    "\n",
    "<div class=\"alert alert-success\">\n",
    "\n",
    "**Task** Change your image to a different colormamp using the `cmap` argument in `plt.imshow` so that you get a Black & White image.\n",
    "</div>"
   ]
  },
  {
   "cell_type": "code",
   "execution_count": null,
   "metadata": {
    "id": "xZHsmsRCoQAv"
   },
   "outputs": [],
   "source": [
    "# ADD CODE HERE"
   ]
  },
  {
   "cell_type": "markdown",
   "metadata": {
    "id": "5zkN1TjioNd-"
   },
   "source": [
    "### Filtering images to smooth them\n",
    "In our signal processing tutorial above, we talked about convolving a signal with an averaging kernel to smooth the signal. We can apply similar logic to images. Let's start with a very simple image."
   ]
  },
  {
   "cell_type": "code",
   "execution_count": null,
   "metadata": {
    "id": "WjqeTZGm_xuf"
   },
   "outputs": [],
   "source": [
    "bright_square = np.zeros((7, 7), dtype=float)\n",
    "bright_square[2:5, 2:5] = 1\n",
    "bright_square"
   ]
  },
  {
   "cell_type": "markdown",
   "metadata": {
    "id": "6PZs0RFkoe-l"
   },
   "source": [
    "This gives the values above, and looks like this!"
   ]
  },
  {
   "cell_type": "code",
   "execution_count": null,
   "metadata": {
    "id": "i3qm85M6DDzz"
   },
   "outputs": [],
   "source": [
    "plt.imshow(bright_square, cmap = \"gray\")\n",
    "plt.axis('off')\n",
    "plt.show()"
   ]
  },
  {
   "cell_type": "markdown",
   "metadata": {
    "id": "MPUgBpaoolOD"
   },
   "source": [
    "For our first example of a filter, consider the following filtering array, which we’ll call a “mean kernel”. For each pixel, a kernel defines which neighboring pixels to consider when filtering, and how much to weight those pixels."
   ]
  },
  {
   "cell_type": "code",
   "execution_count": null,
   "metadata": {
    "id": "rxsEMQxiDicI"
   },
   "outputs": [],
   "source": [
    "mean_kernel = np.full((3, 3), 1/9)\n",
    "\n",
    "print(mean_kernel)"
   ]
  },
  {
   "cell_type": "markdown",
   "metadata": {
    "id": "pdGg--wjo0E1"
   },
   "source": [
    "Now, let’s take our mean kernel and apply it to every pixel of the image.\n",
    "\n",
    "Applying a (linear) filter essentially means:\n",
    "\n",
    "1. Center a kernel on a pixel\n",
    "\n",
    "2. Multiply the pixels under that kernel by the values in the kernel\n",
    "\n",
    "3. Sum all the those results\n",
    "\n",
    "4. Replace the center pixel with the summed result\n",
    "\n",
    "This process is known as **convolution** (the same process we applied to a signal, but now in 3D!)"
   ]
  },
  {
   "cell_type": "code",
   "execution_count": null,
   "metadata": {
    "id": "yDEZk4dODzpq"
   },
   "outputs": [],
   "source": [
    "# Import image processing toolbox\n",
    "import scipy.ndimage as ndi\n",
    "\n",
    "# Set precision\n",
    "%precision 2\n",
    "\n",
    "print(ndi.correlate(bright_square, mean_kernel))"
   ]
  },
  {
   "cell_type": "code",
   "execution_count": null,
   "metadata": {
    "colab": {
     "base_uri": "https://localhost:8080/",
     "height": 430
    },
    "id": "uTRcKXcxD84O",
    "outputId": "b28e622d-dd03-46f7-f68c-870efa78f7c7"
   },
   "outputs": [],
   "source": [
    "smooth_square = ndi.correlate(bright_square, mean_kernel)\n",
    "plt.imshow(smooth_square,cmap='gray')\n",
    "plt.show()"
   ]
  },
  {
   "cell_type": "markdown",
   "metadata": {
    "id": "bclOK2mwo6-y"
   },
   "source": [
    "Below we'll show a short demo of what this looks like. If you're curious how this runs, you can dig into the `convolution_demo.py` file."
   ]
  },
  {
   "cell_type": "code",
   "execution_count": null,
   "metadata": {
    "id": "Isrl_k3IEKRP"
   },
   "outputs": [],
   "source": [
    "from Demos import convolution_demo\n",
    "\n",
    "convolution_demo.mean_filter_interactive_demo(bright_square);"
   ]
  },
  {
   "cell_type": "markdown",
   "metadata": {
    "id": "PfzdlMrDpbOF"
   },
   "source": [
    "This kind of mean filter is a bit brute. Typically, we'd use a Gaussian filter, where the amount of filtering depends on the distance from the center point. Thankfully, we can do that using the filters module:"
   ]
  },
  {
   "cell_type": "code",
   "execution_count": null,
   "metadata": {
    "id": "axsAKiMKEZHA"
   },
   "outputs": [],
   "source": [
    "from skimage import filters\n",
    "\n",
    "gaussian_cells = filters.gaussian(cells[:,:,0],3)\n",
    "\n",
    "plt.imshow(gaussian_cells)\n",
    "plt.show()"
   ]
  },
  {
   "cell_type": "markdown",
   "metadata": {
    "id": "qyJIAjeGphEV"
   },
   "source": [
    "### Edge filtering\n",
    "In biology, we often want to filter edges to identify different features within cells, or cells within a piece of tissue. To do so, we'll often use some sort of edge filtering. To give you an intuition for how edge filtering works, first consider taking our step function and convolving it with a filter that is [-1 0 1].\n",
    "\n",
    "**Note**: For technical signal processing reasons, convolutions actually occur “back to front” between the input array and the kernel. Correlations occur in the signal order, so we’ll use correlate from now on."
   ]
  },
  {
   "cell_type": "code",
   "execution_count": null,
   "metadata": {
    "id": "HuvuGAR9Eyyq"
   },
   "outputs": [],
   "source": [
    "# Recreate the step signal\n",
    "step_signal = np.zeros(100)\n",
    "step_signal[50:] = 1\n",
    "\n",
    "# Convolve it with a [-1 0 1] filter\n",
    "edge_filter = np.correlate(step_signal, np.array([-1, 0, 1]),mode='valid')\n",
    "\n",
    "plt.plot(step_signal, label='signal')\n",
    "plt.plot(edge_filter, linestyle='dashed', label='correlated')\n",
    "plt.legend(loc='upper left')\n",
    "plt.show()"
   ]
  },
  {
   "cell_type": "markdown",
   "metadata": {
    "id": "D-vBDVLmpsXP"
   },
   "source": [
    "Whenever neighboring values are close, the filter response is close to 0. Right at the boundary of a step, we’re subtracting a small value from a large value and and get a spike in the response. This spike “identifies” our edge.\n",
    "\n",
    "Now, let's apply this to images. Below, we'll just apply one filter at a time. in the vertical direction. The vertical kernel has already been created for you."
   ]
  },
  {
   "cell_type": "markdown",
   "metadata": {
    "id": "015SjsJWjGoC"
   },
   "source": [
    "<div class=\"alert alert-success\">\n",
    "\n",
    "**Task** Create a horizontal kernel and assign it to the `horizontal_kernel` variable. Compare the results to those achieved with the vertical kernel.\n",
    "\n",
    "</div>"
   ]
  },
  {
   "cell_type": "code",
   "execution_count": null,
   "metadata": {
    "id": "S9r_pxo9FwvY"
   },
   "outputs": [],
   "source": [
    "vertical_kernel = np.array([\n",
    "    [-1],\n",
    "    [ 0],\n",
    "    [ 1],\n",
    "])\n",
    "\n",
    "horizontal_kernel = # ADD CODE HERE\n",
    "\n",
    "gradient_vertical = ndi.correlate(cells[:,:,0].astype(float),vertical_kernel)\n",
    "gradient_horizontal = ndi.correlate(cells[:,:,0].astype(float),horizontal_kernel)\n",
    "\n",
    "fig, ax = plt.subplots(1,2,figsize=(10,5))\n",
    "ax[0].axis('off')\n",
    "ax[1].axis('off')\n",
    "ax[0].imshow(gradient_vertical,cmap='gray')\n",
    "ax[1].imshow(gradient_horizontal,cmap='gray')\n",
    "\n",
    "plt.show()"
   ]
  },
  {
   "cell_type": "code",
   "execution_count": null,
   "metadata": {
    "cellView": "form",
    "colab": {
     "base_uri": "https://localhost:8080/",
     "height": 111,
     "referenced_widgets": [
      "d038566e63ce416bb9fede175e300c01",
      "3a35a60b98ab4a17b54ff366afca8df7",
      "3133e8e3c23c4cbabb3482a9bc2b04e9",
      "ffabcf1b26a446f39e3a648ef4811539",
      "e6f90d5ef5064b96abbf29b5c4aad9c7",
      "d890385269c54d3fb4526de61bfd3ad3",
      "676465b51f304df3b645ea856a62e230",
      "2694201211b14aeab30b06125bb0b3b6",
      "75019cdb8ee948278e87e54ad5ea52fe",
      "fb7328d885734f8b960b4eeb737f6e14",
      "a23ff9ca0aac42d78dcdc9febc22996d"
     ]
    },
    "id": "1BXpEK6Jq9S9",
    "outputId": "042e3731-ab66-4ac1-8666-c50c0804ac6a"
   },
   "outputs": [],
   "source": [
    "#@title Question 3\n",
    "question_module.question_3()"
   ]
  },
  {
   "cell_type": "markdown",
   "metadata": {
    "id": "rKJmeOHLr_yv"
   },
   "source": [
    "**What if we want to find all of the edges with our filter?**\n",
    "\n",
    "Thankfully, there's a commonly used filter, the **Sobel** edge filter, that does this for us. First, let's appreciate what it looks like for our bright square."
   ]
  },
  {
   "cell_type": "code",
   "execution_count": null,
   "metadata": {
    "id": "SBg7OnWGF34A"
   },
   "outputs": [],
   "source": [
    "plt.imshow(filters.sobel(bright_square))\n",
    "plt.show()"
   ]
  },
  {
   "cell_type": "markdown",
   "metadata": {
    "id": "ARLVSzd5kVq8"
   },
   "source": [
    "Now, let's apply it to our cells!\n",
    "<div class=\"alert alert-success\">\n",
    "    \n",
    "**Task**: Create a figure where the left subplot is a filter of our raw cell image. On the right subplot, apply it to the Gaussian filtered image.\n",
    "    \n",
    "</div>"
   ]
  },
  {
   "cell_type": "code",
   "execution_count": null,
   "metadata": {
    "id": "bqrfnS8AGRBK"
   },
   "outputs": [],
   "source": [
    "# Create your figure here\n",
    "gaussian_edge = filters.sobel(gaussian_cells)\n",
    "raw_edge = filters.sobel(cells[:,:,0])\n",
    "\n",
    "# ADD CODE HERE"
   ]
  },
  {
   "cell_type": "markdown",
   "metadata": {
    "id": "dnPWcNnvkoeF"
   },
   "source": [
    "##Fun Bonus\n",
    "\n",
    "What if you have an image, and you just want to accentuate the edges to improve the image quality? One option is to use an [Unsharp Masking Filter.](https://scikit-image.org/docs/stable/auto_examples/filters/plot_unsharp_mask.html)\n",
    "\n",
    "Find an image on the web, and using code found in the notebook:\n",
    "* Load in your image with the image URL\n",
    "* Use the Unsharp Masking Filter to sharpen the image\n",
    "* Make subplots to compare your original and sharpened image\n",
    "\n",
    "**Things to test:**\n",
    "\n",
    "1. How does the unsharp mask's *radius* parameter affect your sharpening results? What happens if you make *radius* very small? Very large?\n",
    "\n",
    "2. How does the image change as you increase the *amount* paramter? Does the image quality continue to increase? If not, what seems to be the optimal value for your image?"
   ]
  },
  {
   "cell_type": "code",
   "execution_count": null,
   "metadata": {
    "id": "BebDfnZhGYN3"
   },
   "outputs": [],
   "source": [
    "#Bonus Challenge\n",
    "\n",
    "#Find an and load in image\n",
    "# ADD CODE HERE\n",
    "\n",
    "#Use unsharp_mask filter to improve image quality\n",
    "# ADD CODE HERE\n",
    "\n",
    "#Make subplots to compare your original and sharpened images\n",
    "# ADD CODE HERE"
   ]
  },
  {
   "cell_type": "markdown",
   "metadata": {
    "id": "PKiHHtzouX0d"
   },
   "source": [
    "<hr>\n",
    "\n",
    "## About this notebook\n",
    "Some of the code in this notebook was adapted from [this tutorial](https://raphaelvallat.com/bandpower.html) by Raphael Vallat, [these tutorials](https://github.com/voytekresearch/Tutorials) from Torben Noto, _Neural Data Science_ by Pascal Wallisch, and [this tutorial](https://jni.github.io/i2k-skimage-napari/lectures/1_image_filters.html#local-filtering)."
   ]
  }
 ],
 "metadata": {
  "colab": {
   "provenance": []
  },
  "kernelspec": {
   "display_name": "Python 3 (ipykernel)",
   "language": "python",
   "name": "python3"
  },
  "language_info": {
   "codemirror_mode": {
    "name": "ipython",
    "version": 3
   },
   "file_extension": ".py",
   "mimetype": "text/x-python",
   "name": "python",
   "nbconvert_exporter": "python",
   "pygments_lexer": "ipython3",
   "version": "3.12.2"
  },
  "widgets": {
   "application/vnd.jupyter.widget-state+json": {
    "0227a96b698d48c0bffacf0136d44962": {
     "model_module": "@jupyter-widgets/controls",
     "model_module_version": "1.5.0",
     "model_name": "HTMLModel",
     "state": {
      "_dom_classes": [],
      "_model_module": "@jupyter-widgets/controls",
      "_model_module_version": "1.5.0",
      "_model_name": "HTMLModel",
      "_view_count": null,
      "_view_module": "@jupyter-widgets/controls",
      "_view_module_version": "1.5.0",
      "_view_name": "HTMLView",
      "description": "",
      "description_tooltip": null,
      "layout": "IPY_MODEL_1052bfd788d24dbdae32b1e9bae25fda",
      "placeholder": "​",
      "style": "IPY_MODEL_6748008739764bfaa49be25f6bb5233f",
      "value": "With a sampling frequency of 20 Hz, we can recover the number of cycles in our original signal. </br><b>What is the minimum sampling frequency required to also recover the signal amplitude?</b>"
     }
    },
    "1052bfd788d24dbdae32b1e9bae25fda": {
     "model_module": "@jupyter-widgets/base",
     "model_module_version": "1.2.0",
     "model_name": "LayoutModel",
     "state": {
      "_model_module": "@jupyter-widgets/base",
      "_model_module_version": "1.2.0",
      "_model_name": "LayoutModel",
      "_view_count": null,
      "_view_module": "@jupyter-widgets/base",
      "_view_module_version": "1.2.0",
      "_view_name": "LayoutView",
      "align_content": null,
      "align_items": null,
      "align_self": null,
      "border": null,
      "bottom": null,
      "display": null,
      "flex": null,
      "flex_flow": null,
      "grid_area": null,
      "grid_auto_columns": null,
      "grid_auto_flow": null,
      "grid_auto_rows": null,
      "grid_column": null,
      "grid_gap": null,
      "grid_row": null,
      "grid_template_areas": null,
      "grid_template_columns": null,
      "grid_template_rows": null,
      "height": null,
      "justify_content": null,
      "justify_items": null,
      "left": null,
      "margin": null,
      "max_height": null,
      "max_width": null,
      "min_height": null,
      "min_width": null,
      "object_fit": null,
      "object_position": null,
      "order": null,
      "overflow": null,
      "overflow_x": null,
      "overflow_y": null,
      "padding": null,
      "right": null,
      "top": null,
      "visibility": null,
      "width": null
     }
    },
    "11634b638cdb4108bd5e26d8de145b95": {
     "model_module": "@jupyter-widgets/controls",
     "model_module_version": "1.5.0",
     "model_name": "HTMLModel",
     "state": {
      "_dom_classes": [],
      "_model_module": "@jupyter-widgets/controls",
      "_model_module_version": "1.5.0",
      "_model_name": "HTMLModel",
      "_view_count": null,
      "_view_module": "@jupyter-widgets/controls",
      "_view_module_version": "1.5.0",
      "_view_name": "HTMLView",
      "description": "",
      "description_tooltip": null,
      "layout": "IPY_MODEL_7831791b6f6c40bbbb9739456199bed4",
      "placeholder": "​",
      "style": "IPY_MODEL_8994ed4f410b48c28d4e32584a36f7f8",
      "value": "Slow wave sleep produces signals between 0.1 and 4 Hz. </br><b>Is a sampling frequency of 100 Hz sufficient to reproduce the signal?</b>"
     }
    },
    "15f8f47b3e66443bae8c66378493ce7a": {
     "model_module": "@jupyter-widgets/controls",
     "model_module_version": "1.5.0",
     "model_name": "ButtonModel",
     "state": {
      "_dom_classes": [],
      "_model_module": "@jupyter-widgets/controls",
      "_model_module_version": "1.5.0",
      "_model_name": "ButtonModel",
      "_view_count": null,
      "_view_module": "@jupyter-widgets/controls",
      "_view_module_version": "1.5.0",
      "_view_name": "ButtonView",
      "button_style": "",
      "description": "Check Answer",
      "disabled": false,
      "icon": "",
      "layout": "IPY_MODEL_da6587e1b71d4c47bd7a8248029df6ba",
      "style": "IPY_MODEL_313388cf443b4d97b1c1595e0a6b2792",
      "tooltip": ""
     }
    },
    "2694201211b14aeab30b06125bb0b3b6": {
     "model_module": "@jupyter-widgets/base",
     "model_module_version": "1.2.0",
     "model_name": "LayoutModel",
     "state": {
      "_model_module": "@jupyter-widgets/base",
      "_model_module_version": "1.2.0",
      "_model_name": "LayoutModel",
      "_view_count": null,
      "_view_module": "@jupyter-widgets/base",
      "_view_module_version": "1.2.0",
      "_view_name": "LayoutView",
      "align_content": null,
      "align_items": null,
      "align_self": null,
      "border": null,
      "bottom": null,
      "display": null,
      "flex": null,
      "flex_flow": null,
      "grid_area": null,
      "grid_auto_columns": null,
      "grid_auto_flow": null,
      "grid_auto_rows": null,
      "grid_column": null,
      "grid_gap": null,
      "grid_row": null,
      "grid_template_areas": null,
      "grid_template_columns": null,
      "grid_template_rows": null,
      "height": null,
      "justify_content": null,
      "justify_items": null,
      "left": null,
      "margin": null,
      "max_height": null,
      "max_width": null,
      "min_height": null,
      "min_width": null,
      "object_fit": null,
      "object_position": null,
      "order": null,
      "overflow": null,
      "overflow_x": null,
      "overflow_y": null,
      "padding": null,
      "right": null,
      "top": null,
      "visibility": null,
      "width": null
     }
    },
    "313388cf443b4d97b1c1595e0a6b2792": {
     "model_module": "@jupyter-widgets/controls",
     "model_module_version": "1.5.0",
     "model_name": "ButtonStyleModel",
     "state": {
      "_model_module": "@jupyter-widgets/controls",
      "_model_module_version": "1.5.0",
      "_model_name": "ButtonStyleModel",
      "_view_count": null,
      "_view_module": "@jupyter-widgets/base",
      "_view_module_version": "1.2.0",
      "_view_name": "StyleView",
      "button_color": null,
      "font_weight": ""
     }
    },
    "3133e8e3c23c4cbabb3482a9bc2b04e9": {
     "model_module": "@jupyter-widgets/controls",
     "model_module_version": "1.5.0",
     "model_name": "DescriptionStyleModel",
     "state": {
      "_model_module": "@jupyter-widgets/controls",
      "_model_module_version": "1.5.0",
      "_model_name": "DescriptionStyleModel",
      "_view_count": null,
      "_view_module": "@jupyter-widgets/base",
      "_view_module_version": "1.2.0",
      "_view_name": "StyleView",
      "description_width": ""
     }
    },
    "3a35a60b98ab4a17b54ff366afca8df7": {
     "model_module": "@jupyter-widgets/base",
     "model_module_version": "1.2.0",
     "model_name": "LayoutModel",
     "state": {
      "_model_module": "@jupyter-widgets/base",
      "_model_module_version": "1.2.0",
      "_model_name": "LayoutModel",
      "_view_count": null,
      "_view_module": "@jupyter-widgets/base",
      "_view_module_version": "1.2.0",
      "_view_name": "LayoutView",
      "align_content": null,
      "align_items": null,
      "align_self": null,
      "border": null,
      "bottom": null,
      "display": null,
      "flex": null,
      "flex_flow": null,
      "grid_area": null,
      "grid_auto_columns": null,
      "grid_auto_flow": null,
      "grid_auto_rows": null,
      "grid_column": null,
      "grid_gap": null,
      "grid_row": null,
      "grid_template_areas": null,
      "grid_template_columns": null,
      "grid_template_rows": null,
      "height": null,
      "justify_content": null,
      "justify_items": null,
      "left": null,
      "margin": null,
      "max_height": null,
      "max_width": null,
      "min_height": null,
      "min_width": null,
      "object_fit": null,
      "object_position": null,
      "order": null,
      "overflow": null,
      "overflow_x": null,
      "overflow_y": null,
      "padding": null,
      "right": null,
      "top": null,
      "visibility": null,
      "width": null
     }
    },
    "404d6e66d766415cbc97b1ebb2e70253": {
     "model_module": "@jupyter-widgets/controls",
     "model_module_version": "1.5.0",
     "model_name": "DescriptionStyleModel",
     "state": {
      "_model_module": "@jupyter-widgets/controls",
      "_model_module_version": "1.5.0",
      "_model_name": "DescriptionStyleModel",
      "_view_count": null,
      "_view_module": "@jupyter-widgets/base",
      "_view_module_version": "1.2.0",
      "_view_name": "StyleView",
      "description_width": ""
     }
    },
    "4f5a2afd9d1a4fe095a1f8ca09a5f5c6": {
     "model_module": "@jupyter-widgets/base",
     "model_module_version": "1.2.0",
     "model_name": "LayoutModel",
     "state": {
      "_model_module": "@jupyter-widgets/base",
      "_model_module_version": "1.2.0",
      "_model_name": "LayoutModel",
      "_view_count": null,
      "_view_module": "@jupyter-widgets/base",
      "_view_module_version": "1.2.0",
      "_view_name": "LayoutView",
      "align_content": null,
      "align_items": null,
      "align_self": null,
      "border": null,
      "bottom": null,
      "display": null,
      "flex": null,
      "flex_flow": null,
      "grid_area": null,
      "grid_auto_columns": null,
      "grid_auto_flow": null,
      "grid_auto_rows": null,
      "grid_column": null,
      "grid_gap": null,
      "grid_row": null,
      "grid_template_areas": null,
      "grid_template_columns": null,
      "grid_template_rows": null,
      "height": null,
      "justify_content": null,
      "justify_items": null,
      "left": null,
      "margin": null,
      "max_height": null,
      "max_width": null,
      "min_height": null,
      "min_width": null,
      "object_fit": null,
      "object_position": null,
      "order": null,
      "overflow": null,
      "overflow_x": null,
      "overflow_y": null,
      "padding": null,
      "right": null,
      "top": null,
      "visibility": null,
      "width": null
     }
    },
    "542dfc3dafe54318a2a917d59dec8ace": {
     "model_module": "@jupyter-widgets/base",
     "model_module_version": "1.2.0",
     "model_name": "LayoutModel",
     "state": {
      "_model_module": "@jupyter-widgets/base",
      "_model_module_version": "1.2.0",
      "_model_name": "LayoutModel",
      "_view_count": null,
      "_view_module": "@jupyter-widgets/base",
      "_view_module_version": "1.2.0",
      "_view_name": "LayoutView",
      "align_content": null,
      "align_items": null,
      "align_self": null,
      "border": null,
      "bottom": null,
      "display": null,
      "flex": null,
      "flex_flow": null,
      "grid_area": null,
      "grid_auto_columns": null,
      "grid_auto_flow": null,
      "grid_auto_rows": null,
      "grid_column": null,
      "grid_gap": null,
      "grid_row": null,
      "grid_template_areas": null,
      "grid_template_columns": null,
      "grid_template_rows": null,
      "height": null,
      "justify_content": null,
      "justify_items": null,
      "left": null,
      "margin": null,
      "max_height": null,
      "max_width": null,
      "min_height": null,
      "min_width": null,
      "object_fit": null,
      "object_position": null,
      "order": null,
      "overflow": null,
      "overflow_x": null,
      "overflow_y": null,
      "padding": null,
      "right": null,
      "top": null,
      "visibility": null,
      "width": null
     }
    },
    "55585b304ddc4d8f963a4581ced40272": {
     "model_module": "@jupyter-widgets/controls",
     "model_module_version": "1.5.0",
     "model_name": "DropdownModel",
     "state": {
      "_dom_classes": [],
      "_model_module": "@jupyter-widgets/controls",
      "_model_module_version": "1.5.0",
      "_model_name": "DropdownModel",
      "_options_labels": [
       "Yes",
       "No"
      ],
      "_view_count": null,
      "_view_module": "@jupyter-widgets/controls",
      "_view_module_version": "1.5.0",
      "_view_name": "DropdownView",
      "description": "Choose:",
      "description_tooltip": null,
      "disabled": false,
      "index": 0,
      "layout": "IPY_MODEL_f1ca8fe797d54287a56429f6ba1d7b07",
      "style": "IPY_MODEL_d5da26e09b9d438a8baa39541eed78fa"
     }
    },
    "656cf3bd94e8456abdfc50f6a88fa799": {
     "model_module": "@jupyter-widgets/controls",
     "model_module_version": "1.5.0",
     "model_name": "ButtonModel",
     "state": {
      "_dom_classes": [],
      "_model_module": "@jupyter-widgets/controls",
      "_model_module_version": "1.5.0",
      "_model_name": "ButtonModel",
      "_view_count": null,
      "_view_module": "@jupyter-widgets/controls",
      "_view_module_version": "1.5.0",
      "_view_name": "ButtonView",
      "button_style": "",
      "description": "Check Answer",
      "disabled": false,
      "icon": "",
      "layout": "IPY_MODEL_4f5a2afd9d1a4fe095a1f8ca09a5f5c6",
      "style": "IPY_MODEL_7c23205b8c21416fb7763511e203098e",
      "tooltip": ""
     }
    },
    "6748008739764bfaa49be25f6bb5233f": {
     "model_module": "@jupyter-widgets/controls",
     "model_module_version": "1.5.0",
     "model_name": "DescriptionStyleModel",
     "state": {
      "_model_module": "@jupyter-widgets/controls",
      "_model_module_version": "1.5.0",
      "_model_name": "DescriptionStyleModel",
      "_view_count": null,
      "_view_module": "@jupyter-widgets/base",
      "_view_module_version": "1.2.0",
      "_view_name": "StyleView",
      "description_width": ""
     }
    },
    "676465b51f304df3b645ea856a62e230": {
     "model_module": "@jupyter-widgets/controls",
     "model_module_version": "1.5.0",
     "model_name": "ButtonModel",
     "state": {
      "_dom_classes": [],
      "_model_module": "@jupyter-widgets/controls",
      "_model_module_version": "1.5.0",
      "_model_name": "ButtonModel",
      "_view_count": null,
      "_view_module": "@jupyter-widgets/controls",
      "_view_module_version": "1.5.0",
      "_view_name": "ButtonView",
      "button_style": "",
      "description": "Check Answer",
      "disabled": false,
      "icon": "",
      "layout": "IPY_MODEL_2694201211b14aeab30b06125bb0b3b6",
      "style": "IPY_MODEL_75019cdb8ee948278e87e54ad5ea52fe",
      "tooltip": ""
     }
    },
    "6894a9cfc63a4da480c350f5d1d26ac4": {
     "model_module": "@jupyter-widgets/output",
     "model_module_version": "1.0.0",
     "model_name": "OutputModel",
     "state": {
      "_dom_classes": [],
      "_model_module": "@jupyter-widgets/output",
      "_model_module_version": "1.0.0",
      "_model_name": "OutputModel",
      "_view_count": null,
      "_view_module": "@jupyter-widgets/output",
      "_view_module_version": "1.0.0",
      "_view_name": "OutputView",
      "layout": "IPY_MODEL_f36fa1dd333740aeb169ee0774d88b74",
      "msg_id": "",
      "outputs": []
     }
    },
    "75019cdb8ee948278e87e54ad5ea52fe": {
     "model_module": "@jupyter-widgets/controls",
     "model_module_version": "1.5.0",
     "model_name": "ButtonStyleModel",
     "state": {
      "_model_module": "@jupyter-widgets/controls",
      "_model_module_version": "1.5.0",
      "_model_name": "ButtonStyleModel",
      "_view_count": null,
      "_view_module": "@jupyter-widgets/base",
      "_view_module_version": "1.2.0",
      "_view_name": "StyleView",
      "button_color": null,
      "font_weight": ""
     }
    },
    "7831791b6f6c40bbbb9739456199bed4": {
     "model_module": "@jupyter-widgets/base",
     "model_module_version": "1.2.0",
     "model_name": "LayoutModel",
     "state": {
      "_model_module": "@jupyter-widgets/base",
      "_model_module_version": "1.2.0",
      "_model_name": "LayoutModel",
      "_view_count": null,
      "_view_module": "@jupyter-widgets/base",
      "_view_module_version": "1.2.0",
      "_view_name": "LayoutView",
      "align_content": null,
      "align_items": null,
      "align_self": null,
      "border": null,
      "bottom": null,
      "display": null,
      "flex": null,
      "flex_flow": null,
      "grid_area": null,
      "grid_auto_columns": null,
      "grid_auto_flow": null,
      "grid_auto_rows": null,
      "grid_column": null,
      "grid_gap": null,
      "grid_row": null,
      "grid_template_areas": null,
      "grid_template_columns": null,
      "grid_template_rows": null,
      "height": null,
      "justify_content": null,
      "justify_items": null,
      "left": null,
      "margin": null,
      "max_height": null,
      "max_width": null,
      "min_height": null,
      "min_width": null,
      "object_fit": null,
      "object_position": null,
      "order": null,
      "overflow": null,
      "overflow_x": null,
      "overflow_y": null,
      "padding": null,
      "right": null,
      "top": null,
      "visibility": null,
      "width": null
     }
    },
    "7c23205b8c21416fb7763511e203098e": {
     "model_module": "@jupyter-widgets/controls",
     "model_module_version": "1.5.0",
     "model_name": "ButtonStyleModel",
     "state": {
      "_model_module": "@jupyter-widgets/controls",
      "_model_module_version": "1.5.0",
      "_model_name": "ButtonStyleModel",
      "_view_count": null,
      "_view_module": "@jupyter-widgets/base",
      "_view_module_version": "1.2.0",
      "_view_name": "StyleView",
      "button_color": null,
      "font_weight": ""
     }
    },
    "887efeee40ff4f0fa7a448bc35db9d0e": {
     "model_module": "@jupyter-widgets/base",
     "model_module_version": "1.2.0",
     "model_name": "LayoutModel",
     "state": {
      "_model_module": "@jupyter-widgets/base",
      "_model_module_version": "1.2.0",
      "_model_name": "LayoutModel",
      "_view_count": null,
      "_view_module": "@jupyter-widgets/base",
      "_view_module_version": "1.2.0",
      "_view_name": "LayoutView",
      "align_content": null,
      "align_items": null,
      "align_self": null,
      "border": null,
      "bottom": null,
      "display": null,
      "flex": null,
      "flex_flow": null,
      "grid_area": null,
      "grid_auto_columns": null,
      "grid_auto_flow": null,
      "grid_auto_rows": null,
      "grid_column": null,
      "grid_gap": null,
      "grid_row": null,
      "grid_template_areas": null,
      "grid_template_columns": null,
      "grid_template_rows": null,
      "height": null,
      "justify_content": null,
      "justify_items": null,
      "left": null,
      "margin": null,
      "max_height": null,
      "max_width": null,
      "min_height": null,
      "min_width": null,
      "object_fit": null,
      "object_position": null,
      "order": null,
      "overflow": null,
      "overflow_x": null,
      "overflow_y": null,
      "padding": null,
      "right": null,
      "top": null,
      "visibility": null,
      "width": null
     }
    },
    "8994ed4f410b48c28d4e32584a36f7f8": {
     "model_module": "@jupyter-widgets/controls",
     "model_module_version": "1.5.0",
     "model_name": "DescriptionStyleModel",
     "state": {
      "_model_module": "@jupyter-widgets/controls",
      "_model_module_version": "1.5.0",
      "_model_name": "DescriptionStyleModel",
      "_view_count": null,
      "_view_module": "@jupyter-widgets/base",
      "_view_module_version": "1.2.0",
      "_view_name": "StyleView",
      "description_width": ""
     }
    },
    "a23ff9ca0aac42d78dcdc9febc22996d": {
     "model_module": "@jupyter-widgets/base",
     "model_module_version": "1.2.0",
     "model_name": "LayoutModel",
     "state": {
      "_model_module": "@jupyter-widgets/base",
      "_model_module_version": "1.2.0",
      "_model_name": "LayoutModel",
      "_view_count": null,
      "_view_module": "@jupyter-widgets/base",
      "_view_module_version": "1.2.0",
      "_view_name": "LayoutView",
      "align_content": null,
      "align_items": null,
      "align_self": null,
      "border": null,
      "bottom": null,
      "display": null,
      "flex": null,
      "flex_flow": null,
      "grid_area": null,
      "grid_auto_columns": null,
      "grid_auto_flow": null,
      "grid_auto_rows": null,
      "grid_column": null,
      "grid_gap": null,
      "grid_row": null,
      "grid_template_areas": null,
      "grid_template_columns": null,
      "grid_template_rows": null,
      "height": null,
      "justify_content": null,
      "justify_items": null,
      "left": null,
      "margin": null,
      "max_height": null,
      "max_width": null,
      "min_height": null,
      "min_width": null,
      "object_fit": null,
      "object_position": null,
      "order": null,
      "overflow": null,
      "overflow_x": null,
      "overflow_y": null,
      "padding": null,
      "right": null,
      "top": null,
      "visibility": null,
      "width": null
     }
    },
    "b271de2861c24034aca5d52898cb0896": {
     "model_module": "@jupyter-widgets/output",
     "model_module_version": "1.0.0",
     "model_name": "OutputModel",
     "state": {
      "_dom_classes": [],
      "_model_module": "@jupyter-widgets/output",
      "_model_module_version": "1.0.0",
      "_model_name": "OutputModel",
      "_view_count": null,
      "_view_module": "@jupyter-widgets/output",
      "_view_module_version": "1.0.0",
      "_view_name": "OutputView",
      "layout": "IPY_MODEL_542dfc3dafe54318a2a917d59dec8ace",
      "msg_id": "",
      "outputs": []
     }
    },
    "d038566e63ce416bb9fede175e300c01": {
     "model_module": "@jupyter-widgets/controls",
     "model_module_version": "1.5.0",
     "model_name": "HTMLModel",
     "state": {
      "_dom_classes": [],
      "_model_module": "@jupyter-widgets/controls",
      "_model_module_version": "1.5.0",
      "_model_name": "HTMLModel",
      "_view_count": null,
      "_view_module": "@jupyter-widgets/controls",
      "_view_module_version": "1.5.0",
      "_view_name": "HTMLView",
      "description": "",
      "description_tooltip": null,
      "layout": "IPY_MODEL_3a35a60b98ab4a17b54ff366afca8df7",
      "placeholder": "​",
      "style": "IPY_MODEL_3133e8e3c23c4cbabb3482a9bc2b04e9",
      "value": "<b>Which edges are accentuated by the <i>Vertical</i> filter?</b>"
     }
    },
    "d5da26e09b9d438a8baa39541eed78fa": {
     "model_module": "@jupyter-widgets/controls",
     "model_module_version": "1.5.0",
     "model_name": "DescriptionStyleModel",
     "state": {
      "_model_module": "@jupyter-widgets/controls",
      "_model_module_version": "1.5.0",
      "_model_name": "DescriptionStyleModel",
      "_view_count": null,
      "_view_module": "@jupyter-widgets/base",
      "_view_module_version": "1.2.0",
      "_view_name": "StyleView",
      "description_width": ""
     }
    },
    "d890385269c54d3fb4526de61bfd3ad3": {
     "model_module": "@jupyter-widgets/controls",
     "model_module_version": "1.5.0",
     "model_name": "DescriptionStyleModel",
     "state": {
      "_model_module": "@jupyter-widgets/controls",
      "_model_module_version": "1.5.0",
      "_model_name": "DescriptionStyleModel",
      "_view_count": null,
      "_view_module": "@jupyter-widgets/base",
      "_view_module_version": "1.2.0",
      "_view_name": "StyleView",
      "description_width": ""
     }
    },
    "da6587e1b71d4c47bd7a8248029df6ba": {
     "model_module": "@jupyter-widgets/base",
     "model_module_version": "1.2.0",
     "model_name": "LayoutModel",
     "state": {
      "_model_module": "@jupyter-widgets/base",
      "_model_module_version": "1.2.0",
      "_model_name": "LayoutModel",
      "_view_count": null,
      "_view_module": "@jupyter-widgets/base",
      "_view_module_version": "1.2.0",
      "_view_name": "LayoutView",
      "align_content": null,
      "align_items": null,
      "align_self": null,
      "border": null,
      "bottom": null,
      "display": null,
      "flex": null,
      "flex_flow": null,
      "grid_area": null,
      "grid_auto_columns": null,
      "grid_auto_flow": null,
      "grid_auto_rows": null,
      "grid_column": null,
      "grid_gap": null,
      "grid_row": null,
      "grid_template_areas": null,
      "grid_template_columns": null,
      "grid_template_rows": null,
      "height": null,
      "justify_content": null,
      "justify_items": null,
      "left": null,
      "margin": null,
      "max_height": null,
      "max_width": null,
      "min_height": null,
      "min_width": null,
      "object_fit": null,
      "object_position": null,
      "order": null,
      "overflow": null,
      "overflow_x": null,
      "overflow_y": null,
      "padding": null,
      "right": null,
      "top": null,
      "visibility": null,
      "width": null
     }
    },
    "e6f90d5ef5064b96abbf29b5c4aad9c7": {
     "model_module": "@jupyter-widgets/base",
     "model_module_version": "1.2.0",
     "model_name": "LayoutModel",
     "state": {
      "_model_module": "@jupyter-widgets/base",
      "_model_module_version": "1.2.0",
      "_model_name": "LayoutModel",
      "_view_count": null,
      "_view_module": "@jupyter-widgets/base",
      "_view_module_version": "1.2.0",
      "_view_name": "LayoutView",
      "align_content": null,
      "align_items": null,
      "align_self": null,
      "border": null,
      "bottom": null,
      "display": null,
      "flex": null,
      "flex_flow": null,
      "grid_area": null,
      "grid_auto_columns": null,
      "grid_auto_flow": null,
      "grid_auto_rows": null,
      "grid_column": null,
      "grid_gap": null,
      "grid_row": null,
      "grid_template_areas": null,
      "grid_template_columns": null,
      "grid_template_rows": null,
      "height": null,
      "justify_content": null,
      "justify_items": null,
      "left": null,
      "margin": null,
      "max_height": null,
      "max_width": null,
      "min_height": null,
      "min_width": null,
      "object_fit": null,
      "object_position": null,
      "order": null,
      "overflow": null,
      "overflow_x": null,
      "overflow_y": null,
      "padding": null,
      "right": null,
      "top": null,
      "visibility": null,
      "width": null
     }
    },
    "f1ca8fe797d54287a56429f6ba1d7b07": {
     "model_module": "@jupyter-widgets/base",
     "model_module_version": "1.2.0",
     "model_name": "LayoutModel",
     "state": {
      "_model_module": "@jupyter-widgets/base",
      "_model_module_version": "1.2.0",
      "_model_name": "LayoutModel",
      "_view_count": null,
      "_view_module": "@jupyter-widgets/base",
      "_view_module_version": "1.2.0",
      "_view_name": "LayoutView",
      "align_content": null,
      "align_items": null,
      "align_self": null,
      "border": null,
      "bottom": null,
      "display": null,
      "flex": null,
      "flex_flow": null,
      "grid_area": null,
      "grid_auto_columns": null,
      "grid_auto_flow": null,
      "grid_auto_rows": null,
      "grid_column": null,
      "grid_gap": null,
      "grid_row": null,
      "grid_template_areas": null,
      "grid_template_columns": null,
      "grid_template_rows": null,
      "height": null,
      "justify_content": null,
      "justify_items": null,
      "left": null,
      "margin": null,
      "max_height": null,
      "max_width": null,
      "min_height": null,
      "min_width": null,
      "object_fit": null,
      "object_position": null,
      "order": null,
      "overflow": null,
      "overflow_x": null,
      "overflow_y": null,
      "padding": null,
      "right": null,
      "top": null,
      "visibility": null,
      "width": null
     }
    },
    "f36fa1dd333740aeb169ee0774d88b74": {
     "model_module": "@jupyter-widgets/base",
     "model_module_version": "1.2.0",
     "model_name": "LayoutModel",
     "state": {
      "_model_module": "@jupyter-widgets/base",
      "_model_module_version": "1.2.0",
      "_model_name": "LayoutModel",
      "_view_count": null,
      "_view_module": "@jupyter-widgets/base",
      "_view_module_version": "1.2.0",
      "_view_name": "LayoutView",
      "align_content": null,
      "align_items": null,
      "align_self": null,
      "border": null,
      "bottom": null,
      "display": null,
      "flex": null,
      "flex_flow": null,
      "grid_area": null,
      "grid_auto_columns": null,
      "grid_auto_flow": null,
      "grid_auto_rows": null,
      "grid_column": null,
      "grid_gap": null,
      "grid_row": null,
      "grid_template_areas": null,
      "grid_template_columns": null,
      "grid_template_rows": null,
      "height": null,
      "justify_content": null,
      "justify_items": null,
      "left": null,
      "margin": null,
      "max_height": null,
      "max_width": null,
      "min_height": null,
      "min_width": null,
      "object_fit": null,
      "object_position": null,
      "order": null,
      "overflow": null,
      "overflow_x": null,
      "overflow_y": null,
      "padding": null,
      "right": null,
      "top": null,
      "visibility": null,
      "width": null
     }
    },
    "fb7328d885734f8b960b4eeb737f6e14": {
     "model_module": "@jupyter-widgets/output",
     "model_module_version": "1.0.0",
     "model_name": "OutputModel",
     "state": {
      "_dom_classes": [],
      "_model_module": "@jupyter-widgets/output",
      "_model_module_version": "1.0.0",
      "_model_name": "OutputModel",
      "_view_count": null,
      "_view_module": "@jupyter-widgets/output",
      "_view_module_version": "1.0.0",
      "_view_name": "OutputView",
      "layout": "IPY_MODEL_a23ff9ca0aac42d78dcdc9febc22996d",
      "msg_id": "",
      "outputs": []
     }
    },
    "fe62ee6e62934672943d7a7f9b9fb337": {
     "model_module": "@jupyter-widgets/controls",
     "model_module_version": "1.5.0",
     "model_name": "DropdownModel",
     "state": {
      "_dom_classes": [],
      "_model_module": "@jupyter-widgets/controls",
      "_model_module_version": "1.5.0",
      "_model_name": "DropdownModel",
      "_options_labels": [
       "21 Hz",
       "41 Hz",
       "200 Hz",
       "400 Hz"
      ],
      "_view_count": null,
      "_view_module": "@jupyter-widgets/controls",
      "_view_module_version": "1.5.0",
      "_view_name": "DropdownView",
      "description": "Choose:",
      "description_tooltip": null,
      "disabled": false,
      "index": 0,
      "layout": "IPY_MODEL_887efeee40ff4f0fa7a448bc35db9d0e",
      "style": "IPY_MODEL_404d6e66d766415cbc97b1ebb2e70253"
     }
    },
    "ffabcf1b26a446f39e3a648ef4811539": {
     "model_module": "@jupyter-widgets/controls",
     "model_module_version": "1.5.0",
     "model_name": "DropdownModel",
     "state": {
      "_dom_classes": [],
      "_model_module": "@jupyter-widgets/controls",
      "_model_module_version": "1.5.0",
      "_model_name": "DropdownModel",
      "_options_labels": [
       "All edges",
       "Vertical edges",
       "Horizontal edges",
       "No edges"
      ],
      "_view_count": null,
      "_view_module": "@jupyter-widgets/controls",
      "_view_module_version": "1.5.0",
      "_view_name": "DropdownView",
      "description": "Choose:",
      "description_tooltip": null,
      "disabled": false,
      "index": 0,
      "layout": "IPY_MODEL_e6f90d5ef5064b96abbf29b5c4aad9c7",
      "style": "IPY_MODEL_d890385269c54d3fb4526de61bfd3ad3"
     }
    }
   }
  }
 },
 "nbformat": 4,
 "nbformat_minor": 4
}
